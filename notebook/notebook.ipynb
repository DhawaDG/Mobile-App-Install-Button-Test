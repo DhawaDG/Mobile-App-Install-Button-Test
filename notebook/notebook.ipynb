{
 "cells": [
  {
   "cell_type": "markdown",
   "id": "0f82422a-4b47-47cc-9980-2d779964a16f",
   "metadata": {},
   "source": [
    "### 1. Project Overview\n",
    "- Test Objective: Compare conversion rates between currents vs. redesigned install button\n",
    "-  Hypotheses:\n",
    "    - H_0: No difference in install rates(p1=p2)\n",
    "    - H_1: Redesigned button affects install rates(p1 != p2)\n",
    "-  Significance level: alpha = 0.05\n",
    "-  Statistical Test: Fisher's Exact Test(binary outcome)"
   ]
  },
  {
   "cell_type": "markdown",
   "id": "1da21f2b-ed60-4a19-8144-f1a4103181f3",
   "metadata": {},
   "source": [
    "### 2. Data Preparation"
   ]
  },
  {
   "cell_type": "code",
   "execution_count": 15,
   "id": "bfddccf6-efab-434f-93ce-5b885c9719f6",
   "metadata": {},
   "outputs": [
    {
     "ename": "AttributeError",
     "evalue": "'list' object has no attribute 'value_counts'",
     "output_type": "error",
     "traceback": [
      "\u001b[1;31m---------------------------------------------------------------------------\u001b[0m",
      "\u001b[1;31mAttributeError\u001b[0m                            Traceback (most recent call last)",
      "Cell \u001b[1;32mIn[15], line 8\u001b[0m\n\u001b[0;32m      2\u001b[0m \u001b[38;5;66;03m# Sample data structure (replace with actual data)\u001b[39;00m\n\u001b[0;32m      3\u001b[0m data \u001b[38;5;241m=\u001b[39m{\n\u001b[0;32m      4\u001b[0m     \u001b[38;5;124m'\u001b[39m\u001b[38;5;124mvariant\u001b[39m\u001b[38;5;124m'\u001b[39m:[\u001b[38;5;124m'\u001b[39m\u001b[38;5;124mcontrol\u001b[39m\u001b[38;5;124m'\u001b[39m]\u001b[38;5;241m*\u001b[39m\u001b[38;5;241m1000\u001b[39m \u001b[38;5;241m+\u001b[39m [\u001b[38;5;124m'\u001b[39m\u001b[38;5;124mtreatment\u001b[39m\u001b[38;5;124m'\u001b[39m]\u001b[38;5;241m*\u001b[39m\u001b[38;5;241m1000\u001b[39m,\n\u001b[0;32m      5\u001b[0m     \u001b[38;5;124m'\u001b[39m\u001b[38;5;124minstalled\u001b[39m\u001b[38;5;124m'\u001b[39m:[\u001b[38;5;241m1\u001b[39m]\u001b[38;5;241m*\u001b[39m\u001b[38;5;241m50\u001b[39m \u001b[38;5;241m+\u001b[39m [\u001b[38;5;241m0\u001b[39m]\u001b[38;5;241m*\u001b[39m\u001b[38;5;241m950\u001b[39m \u001b[38;5;241m+\u001b[39m [\u001b[38;5;241m1\u001b[39m] \u001b[38;5;241m*\u001b[39m \u001b[38;5;241m75\u001b[39m \u001b[38;5;241m+\u001b[39m [\u001b[38;5;241m0\u001b[39m] \u001b[38;5;241m*\u001b[39m \u001b[38;5;241m925\u001b[39m\n\u001b[0;32m      6\u001b[0m }\n\u001b[1;32m----> 8\u001b[0m \u001b[38;5;28mprint\u001b[39m(data[\u001b[38;5;124m'\u001b[39m\u001b[38;5;124mvariant\u001b[39m\u001b[38;5;124m'\u001b[39m]\u001b[38;5;241m.\u001b[39mvalue_counts())\n\u001b[0;32m      9\u001b[0m data\u001b[38;5;241m.\u001b[39mhead()\n",
      "\u001b[1;31mAttributeError\u001b[0m: 'list' object has no attribute 'value_counts'"
     ]
    }
   ],
   "source": [
    "import pandas as pd\n",
    "# Sample data structure (replace with actual data)\n",
    "data ={\n",
    "    'variant':['control']*1000 + ['treatment']*1000,\n",
    "    'installed':[1]*50 + [0]*950 + [1] * 75 + [0] * 925\n",
    "}\n",
    "\n",
    "print(data['variant'].value_counts())\n",
    "data.head()\n"
   ]
  },
  {
   "cell_type": "markdown",
   "id": "4e842a3a-1e08-4701-94b1-5f5daf1fdf62",
   "metadata": {},
   "source": [
    "> #### AttributeError: 'list' object has no attribute 'value_counts'\n",
    "This error occurs because I was trying to use the `value_counts()` methods on a list, but this method is only available for pandas Series objects.\n",
    "Fix:\n",
    "> 1. Frist, convert your dictionary to a pandas DataFrame\n",
    "> 2. Then you can use `value_counts()` on the columns"
   ]
  },
  {
   "cell_type": "code",
   "execution_count": 20,
   "id": "785a9291-6097-45a2-8f82-acf2a7dccd9d",
   "metadata": {},
   "outputs": [
    {
     "name": "stdout",
     "output_type": "stream",
     "text": [
      "variant\n",
      "control      1000\n",
      "treatment    1000\n",
      "Name: count, dtype: int64\n",
      "   variant  installed\n",
      "0  control          1\n",
      "1  control          1\n",
      "2  control          1\n",
      "3  control          1\n",
      "4  control          1\n"
     ]
    }
   ],
   "source": [
    "#convert to DataFrame\n",
    "df =pd.DataFrame(data)\n",
    "#now you can use value_counts\n",
    "print(df['variant'].value_counts())\n",
    "#display the head of the DataFrame\n",
    "print(df.head())"
   ]
  },
  {
   "cell_type": "markdown",
   "id": "4fc5c5ad-3519-49db-99f8-9dafc8e52eb7",
   "metadata": {},
   "source": [
    "### 3. Exploratory Analysis\n",
    "\n",
    "#### conversion rates\n"
   ]
  },
  {
   "cell_type": "code",
   "execution_count": 25,
   "id": "80ea1ad7-11e4-4fca-ad62-43cd9c508240",
   "metadata": {},
   "outputs": [
    {
     "name": "stdout",
     "output_type": "stream",
     "text": [
      "variant\n",
      "control      0.050\n",
      "treatment    0.075\n",
      "Name: installed, dtype: float64\n"
     ]
    }
   ],
   "source": [
    "import numpy as np\n",
    "\n",
    "conversion_rates = df.groupby('variant')['installed'].mean()\n",
    "print(conversion_rates)"
   ]
  },
  {
   "cell_type": "code",
   "execution_count": 29,
   "id": "44bc0ee4-e9f2-4b71-ac98-266cdda7cde6",
   "metadata": {},
   "outputs": [
    {
     "data": {
      "image/png": "[encoded data removed]",
      "text/plain": [
       "<Figure size 640x480 with 1 Axes>"
      ]
     },
     "metadata": {},
     "output_type": "display_data"
    }
   ],
   "source": [
    "#Visualization\n",
    "import matplotlib.pyplot as plt\n",
    "\n",
    "conversion_rates.plot(kind='bar',title='Install Rate by Variant')\n",
    "plt.ylabel('Conversion Rate')\n",
    "plt.show()"
   ]
  },
  {
   "cell_type": "markdown",
   "id": "e8da3f95-360f-49ca-96ac-597c5afe5fcc",
   "metadata": {},
   "source": [
    "### 4. Statistical Testing\n"
   ]
  },
  {
   "cell_type": "code",
   "execution_count": 32,
   "id": "bc554b02-4ff2-4b0c-b569-2e743dbe4e85",
   "metadata": {},
   "outputs": [
    {
     "name": "stdout",
     "output_type": "stream",
     "text": [
      "installed    0   1\n",
      "variant           \n",
      "control    950  50\n",
      "treatment  925  75\n"
     ]
    }
   ],
   "source": [
    "#create contingency table \n",
    "contg_table=pd.crosstab(df['variant'],df['installed'])\n",
    "print(contg_table)"
   ]
  },
  {
   "cell_type": "code",
   "execution_count": 36,
   "id": "0b815a20-ca1b-49cb-bb8b-ae219dda2572",
   "metadata": {
    "scrolled": true
   },
   "outputs": [
    {
     "name": "stdout",
     "output_type": "stream",
     "text": [
      "Odds Ratio: 1.541\n",
      "P-value: 0.0263\n"
     ]
    }
   ],
   "source": [
    "# Fisher's Exact Test\n",
    "from scipy.stats import fisher_exact\n",
    "\n",
    "odds_ratio,p_value = fisher_exact(contg_table,alternative='two-sided')\n",
    "print(f'Odds Ratio: {odds_ratio:.3f}')\n",
    "print(f'P-value: {p_value:.4f}')"
   ]
  },
  {
   "cell_type": "markdown",
   "id": "9c95d632-e580-40b3-ad1c-fe32fa9409f7",
   "metadata": {},
   "source": [
    "> This means the redesigned button (treatment) had **1.54x** higher odds of being installed compared to the original button (control).\n",
    "\n",
    "> The **p-value < 0.05** indicates this result is **statistically significant**."
   ]
  },
  {
   "cell_type": "code",
   "execution_count": 38,
   "id": "b9863433-0e09-499b-998f-7053a040a345",
   "metadata": {},
   "outputs": [
    {
     "name": "stdout",
     "output_type": "stream",
     "text": [
      "Relative Uplift: 50.0%\n"
     ]
    }
   ],
   "source": [
    "#effect size calculation\n",
    "\n",
    "def relative_uplift (control_rate, treatment_rate):\n",
    "    return (treatment_rate - control_rate)/control_rate\n",
    "\n",
    "\n",
    "uplift = relative_uplift(conversion_rates['control'],conversion_rates['treatment'])\n",
    "print(f'Relative Uplift: {uplift:.1%}')"
   ]
  },
  {
   "cell_type": "markdown",
   "id": "c1b046c8-cc3c-4fe6-8f72-402d3e41715d",
   "metadata": {},
   "source": [
    "> There is **50.0%** relative uplift between Treatment and Controlled means new design have **50.0%** better performance then old design."
   ]
  },
  {
   "cell_type": "code",
   "execution_count": null,
   "id": "04c6b433-3a9d-4467-8503-c748e8ce352e",
   "metadata": {},
   "outputs": [],
   "source": []
  }
 ],
 "metadata": {
  "kernelspec": {
   "display_name": "Python [conda env:base] *",
   "language": "python",
   "name": "conda-base-py"
  },
  "language_info": {
   "codemirror_mode": {
    "name": "ipython",
    "version": 3
   },
   "file_extension": ".py",
   "mimetype": "text/x-python",
   "name": "python",
   "nbconvert_exporter": "python",
   "pygments_lexer": "ipython3",
   "version": "3.12.7"
  }
 },
 "nbformat": 4,
 "nbformat_minor": 5
}
